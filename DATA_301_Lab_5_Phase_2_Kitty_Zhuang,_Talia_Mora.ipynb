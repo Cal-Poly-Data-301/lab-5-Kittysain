{
  "nbformat": 4,
  "nbformat_minor": 0,
  "metadata": {
    "kernelspec": {
      "display_name": "Python 3",
      "language": "python",
      "name": "python3"
    },
    "language_info": {
      "codemirror_mode": {
        "name": "ipython",
        "version": 3
      },
      "file_extension": ".py",
      "mimetype": "text/x-python",
      "name": "python",
      "nbconvert_exporter": "python",
      "pygments_lexer": "ipython3",
      "version": "3.6.8"
    },
    "colab": {
      "name": "DATA 301 Lab 5 - Phase 2 - Kitty Zhuang, Talia Mora",
      "provenance": [],
      "collapsed_sections": [],
      "include_colab_link": true
    }
  },
  "cells": [
    {
      "cell_type": "markdown",
      "metadata": {
        "id": "view-in-github",
        "colab_type": "text"
      },
      "source": [
        "<a href=\"https://colab.research.google.com/github/Cal-Poly-Data-301/lab-5-Kittysain/blob/main/DATA_301_Lab_5_Phase_2_Kitty_Zhuang%2C_Talia_Mora.ipynb\" target=\"_parent\"><img src=\"https://colab.research.google.com/assets/colab-badge.svg\" alt=\"Open In Colab\"/></a>"
      ]
    },
    {
      "cell_type": "markdown",
      "metadata": {
        "id": "iG3X1KFIBLUK"
      },
      "source": [
        "# Authorship of the Federalist Papers\n",
        "\n",
        "The _Federalist Papers_ were a set of 85 essays published between 1787 and 1788 to promote the ratification of the United States Constitution. They were originally published under the pseudonym \"Publius\". Although the identity of the authors was a closely guarded secret at the time, most of the papers have since been conclusively attributed to one of Hamilton, Jay, or Madison. The known authorships can be found in `https://dlsun.github.io/pods/data/federalist/authorship.csv`.\n",
        "\n",
        "For 15 of the papers, however, the authorships remain disputed. (These papers can be identified from the `authorship.csv` file because the \"Author\" field is blank.) In this analysis, you will use the papers with known authorship to predict the authorships of the disputed papers. The text of each paper is available at `https://dlsun.github.io/pods/data/federalist/x.txt`, where `x` is the number of the paper (i.e., a number from 1 to 85). The name of the file indicates the number of the paper."
      ]
    },
    {
      "cell_type": "code",
      "source": [
        "import pandas as pd\n",
        "import requests\n",
        " \n",
        "\n",
        "df_authorship = pd.read_csv(\"https://dlsun.github.io/pods/data/federalist/authorship.csv\")\n",
        "df_authorship.head()"
      ],
      "metadata": {
        "colab": {
          "base_uri": "https://localhost:8080/",
          "height": 206
        },
        "id": "9lFP3jhOvinh",
        "outputId": "273a1b2d-a673-433c-c0a5-8e813d21041a"
      },
      "execution_count": 31,
      "outputs": [
        {
          "output_type": "execute_result",
          "data": {
            "text/html": [
              "\n",
              "  <div id=\"df-4dba9ff1-972a-4f81-bbd7-6c6e32d1dd8c\">\n",
              "    <div class=\"colab-df-container\">\n",
              "      <div>\n",
              "<style scoped>\n",
              "    .dataframe tbody tr th:only-of-type {\n",
              "        vertical-align: middle;\n",
              "    }\n",
              "\n",
              "    .dataframe tbody tr th {\n",
              "        vertical-align: top;\n",
              "    }\n",
              "\n",
              "    .dataframe thead th {\n",
              "        text-align: right;\n",
              "    }\n",
              "</style>\n",
              "<table border=\"1\" class=\"dataframe\">\n",
              "  <thead>\n",
              "    <tr style=\"text-align: right;\">\n",
              "      <th></th>\n",
              "      <th>Paper</th>\n",
              "      <th>Author</th>\n",
              "    </tr>\n",
              "  </thead>\n",
              "  <tbody>\n",
              "    <tr>\n",
              "      <th>0</th>\n",
              "      <td>1</td>\n",
              "      <td>Hamilton</td>\n",
              "    </tr>\n",
              "    <tr>\n",
              "      <th>1</th>\n",
              "      <td>2</td>\n",
              "      <td>Jay</td>\n",
              "    </tr>\n",
              "    <tr>\n",
              "      <th>2</th>\n",
              "      <td>3</td>\n",
              "      <td>Jay</td>\n",
              "    </tr>\n",
              "    <tr>\n",
              "      <th>3</th>\n",
              "      <td>4</td>\n",
              "      <td>Jay</td>\n",
              "    </tr>\n",
              "    <tr>\n",
              "      <th>4</th>\n",
              "      <td>5</td>\n",
              "      <td>Jay</td>\n",
              "    </tr>\n",
              "  </tbody>\n",
              "</table>\n",
              "</div>\n",
              "      <button class=\"colab-df-convert\" onclick=\"convertToInteractive('df-4dba9ff1-972a-4f81-bbd7-6c6e32d1dd8c')\"\n",
              "              title=\"Convert this dataframe to an interactive table.\"\n",
              "              style=\"display:none;\">\n",
              "        \n",
              "  <svg xmlns=\"http://www.w3.org/2000/svg\" height=\"24px\"viewBox=\"0 0 24 24\"\n",
              "       width=\"24px\">\n",
              "    <path d=\"M0 0h24v24H0V0z\" fill=\"none\"/>\n",
              "    <path d=\"M18.56 5.44l.94 2.06.94-2.06 2.06-.94-2.06-.94-.94-2.06-.94 2.06-2.06.94zm-11 1L8.5 8.5l.94-2.06 2.06-.94-2.06-.94L8.5 2.5l-.94 2.06-2.06.94zm10 10l.94 2.06.94-2.06 2.06-.94-2.06-.94-.94-2.06-.94 2.06-2.06.94z\"/><path d=\"M17.41 7.96l-1.37-1.37c-.4-.4-.92-.59-1.43-.59-.52 0-1.04.2-1.43.59L10.3 9.45l-7.72 7.72c-.78.78-.78 2.05 0 2.83L4 21.41c.39.39.9.59 1.41.59.51 0 1.02-.2 1.41-.59l7.78-7.78 2.81-2.81c.8-.78.8-2.07 0-2.86zM5.41 20L4 18.59l7.72-7.72 1.47 1.35L5.41 20z\"/>\n",
              "  </svg>\n",
              "      </button>\n",
              "      \n",
              "  <style>\n",
              "    .colab-df-container {\n",
              "      display:flex;\n",
              "      flex-wrap:wrap;\n",
              "      gap: 12px;\n",
              "    }\n",
              "\n",
              "    .colab-df-convert {\n",
              "      background-color: #E8F0FE;\n",
              "      border: none;\n",
              "      border-radius: 50%;\n",
              "      cursor: pointer;\n",
              "      display: none;\n",
              "      fill: #1967D2;\n",
              "      height: 32px;\n",
              "      padding: 0 0 0 0;\n",
              "      width: 32px;\n",
              "    }\n",
              "\n",
              "    .colab-df-convert:hover {\n",
              "      background-color: #E2EBFA;\n",
              "      box-shadow: 0px 1px 2px rgba(60, 64, 67, 0.3), 0px 1px 3px 1px rgba(60, 64, 67, 0.15);\n",
              "      fill: #174EA6;\n",
              "    }\n",
              "\n",
              "    [theme=dark] .colab-df-convert {\n",
              "      background-color: #3B4455;\n",
              "      fill: #D2E3FC;\n",
              "    }\n",
              "\n",
              "    [theme=dark] .colab-df-convert:hover {\n",
              "      background-color: #434B5C;\n",
              "      box-shadow: 0px 1px 3px 1px rgba(0, 0, 0, 0.15);\n",
              "      filter: drop-shadow(0px 1px 2px rgba(0, 0, 0, 0.3));\n",
              "      fill: #FFFFFF;\n",
              "    }\n",
              "  </style>\n",
              "\n",
              "      <script>\n",
              "        const buttonEl =\n",
              "          document.querySelector('#df-4dba9ff1-972a-4f81-bbd7-6c6e32d1dd8c button.colab-df-convert');\n",
              "        buttonEl.style.display =\n",
              "          google.colab.kernel.accessAllowed ? 'block' : 'none';\n",
              "\n",
              "        async function convertToInteractive(key) {\n",
              "          const element = document.querySelector('#df-4dba9ff1-972a-4f81-bbd7-6c6e32d1dd8c');\n",
              "          const dataTable =\n",
              "            await google.colab.kernel.invokeFunction('convertToInteractive',\n",
              "                                                     [key], {});\n",
              "          if (!dataTable) return;\n",
              "\n",
              "          const docLinkHtml = 'Like what you see? Visit the ' +\n",
              "            '<a target=\"_blank\" href=https://colab.research.google.com/notebooks/data_table.ipynb>data table notebook</a>'\n",
              "            + ' to learn more about interactive tables.';\n",
              "          element.innerHTML = '';\n",
              "          dataTable['output_type'] = 'display_data';\n",
              "          await google.colab.output.renderOutput(dataTable, element);\n",
              "          const docLink = document.createElement('div');\n",
              "          docLink.innerHTML = docLinkHtml;\n",
              "          element.appendChild(docLink);\n",
              "        }\n",
              "      </script>\n",
              "    </div>\n",
              "  </div>\n",
              "  "
            ],
            "text/plain": [
              "   Paper    Author\n",
              "0      1  Hamilton\n",
              "1      2       Jay\n",
              "2      3       Jay\n",
              "3      4       Jay\n",
              "4      5       Jay"
            ]
          },
          "metadata": {},
          "execution_count": 31
        }
      ]
    },
    {
      "cell_type": "code",
      "source": [
        "for x in range(1,86):\n",
        "    response = requests.get(\"https://dlsun.github.io/pods/data/federalist/\" + str(x) + \".txt\", \"r\")\n",
        "    df_authorship.Paper[x] = response.text"
      ],
      "metadata": {
        "id": "eqnumDIzJr69"
      },
      "execution_count": 43,
      "outputs": []
    },
    {
      "cell_type": "markdown",
      "metadata": {
        "id": "8YRe6SB3BLUN"
      },
      "source": [
        "## Question 1\n",
        "\n",
        "When analyzing an author's style, common words like \"the\" and \"on\" are actually more useful than rare words like \"hostilities\". That is because rare words typically signify context. Context is useful if you are trying to find documents about similar topics, but not so useful if you are trying to identify an author's style because different authors can write about the same topic. For example, both Dr. Seuss and Charles Dickens used rare words like \"chimney\" and \"stockings\" in _How the Grinch Stole Christmas_ and _A Christmas Carol_, respectively. But they used common words very differently: Dickens used the word \"upon\" over 100 times, while Dr. Seuss did not use \"upon\" even once.\n",
        "\n",
        "Read in the Federalist Papers. Convert each one into a vector of term frequencies. In order to restrict to common words, include only the top 50 words across the corpus. (Because we are restricting to the most common words already, there is no reason to reweight them using TF-IDF.)"
      ]
    },
    {
      "cell_type": "code",
      "source": [
        "from sklearn.feature_extraction.text import CountVectorizer\n",
        "\n",
        "vec = CountVectorizer()\n",
        "vec.fit(df_authorship.Paper)\n",
        "tf_paper_sparse = vec.transform(df_authorship.Paper)\n",
        "\n",
        "tf_paper_sparse\n",
        "\n",
        "df_paper_tf = pd.DataFrame(\n",
        "    tf_paper_sparse.todense(),\n",
        "    columns=vec.get_feature_names()\n",
        ")\n",
        "\n",
        "sum_words = tf_paper_sparse.sum(axis=0)\n",
        "\n",
        "words_freq = [(word, sum_words[0, idx]) for word, idx in vec.vocabulary_.items()]\n",
        "words_freq =sorted(words_freq, key = lambda x: x[1], reverse=True)\n",
        "\n",
        "words_freq[:50]\n",
        "\n",
        "#https://medium.com/@cristhianboujon/how-to-list-the-most-common-words-from-text-corpus-using-scikit-learn-dad4d0cab41d"
      ],
      "metadata": {
        "colab": {
          "base_uri": "https://localhost:8080/"
        },
        "id": "ktCHsEfICunW",
        "outputId": "1c49c00c-5c48-44f2-de2d-d39624ac54b3"
      },
      "execution_count": 45,
      "outputs": [
        {
          "output_type": "stream",
          "name": "stderr",
          "text": [
            "/usr/local/lib/python3.7/dist-packages/sklearn/utils/deprecation.py:87: FutureWarning: Function get_feature_names is deprecated; get_feature_names is deprecated in 1.0 and will be removed in 1.2. Please use get_feature_names_out instead.\n",
            "  warnings.warn(msg, category=FutureWarning)\n"
          ]
        },
        {
          "output_type": "execute_result",
          "data": {
            "text/plain": [
              "[('the', 17767),\n",
              " ('of', 11824),\n",
              " ('to', 7074),\n",
              " ('and', 5099),\n",
              " ('in', 4456),\n",
              " ('be', 3825),\n",
              " ('that', 2792),\n",
              " ('it', 2550),\n",
              " ('is', 2194),\n",
              " ('which', 2068),\n",
              " ('by', 1741),\n",
              " ('as', 1721),\n",
              " ('this', 1410),\n",
              " ('would', 1273),\n",
              " ('have', 1262),\n",
              " ('will', 1255),\n",
              " ('for', 1237),\n",
              " ('or', 1233),\n",
              " ('not', 1215),\n",
              " ('their', 1098),\n",
              " ('with', 1053),\n",
              " ('from', 1043),\n",
              " ('are', 1032),\n",
              " ('on', 952),\n",
              " ('they', 928),\n",
              " ('an', 927),\n",
              " ('states', 851),\n",
              " ('government', 829),\n",
              " ('may', 816),\n",
              " ('been', 798),\n",
              " ('state', 787),\n",
              " ('all', 731),\n",
              " ('but', 697),\n",
              " ('its', 651),\n",
              " ('other', 646),\n",
              " ('people', 612),\n",
              " ('has', 603),\n",
              " ('power', 603),\n",
              " ('more', 579),\n",
              " ('at', 568),\n",
              " ('if', 563),\n",
              " ('than', 550),\n",
              " ('them', 548),\n",
              " ('one', 547),\n",
              " ('any', 545),\n",
              " ('no', 506),\n",
              " ('those', 481),\n",
              " ('can', 465),\n",
              " ('constitution', 463),\n",
              " ('we', 461)]"
            ]
          },
          "metadata": {},
          "execution_count": 45
        }
      ]
    },
    {
      "cell_type": "markdown",
      "metadata": {
        "id": "bDLgJQtaHljA"
      },
      "source": [
        "## Question 2\n",
        "Make a visualization that summarizes the most common words used by Hamilton, Madison, and Jay."
      ]
    },
    {
      "cell_type": "code",
      "source": [
        "Authors = df_authorship[\"Author\"].copy().dropna().unique()\n",
        "\n",
        "for author in Authors:\n",
        "  paper_author_index = df_authorship[df_authorship[\"Author\"] == author].index.tolist()\n",
        "\n",
        "  paper_author_tf = tf_paper_sparse[paper_author_index]\n",
        "\n",
        "  sum_words_author = paper_author_tf.sum(axis=0)\n",
        "\n",
        "  words_freq_author = [(word, sum_words_author[0, idx]) for word, idx in vec.vocabulary_.items()]\n",
        "  words_freq_author = sorted(words_freq_author, key = lambda x: x[1], reverse=True)\n",
        "  print(author, words_freq_author[:10])\n",
        "  pd.DataFrame(words_freq_author[:10]).set_index(0).plot.pie(title = author, subplots = True, autopct='%1.1f%%')"
      ],
      "metadata": {
        "colab": {
          "base_uri": "https://localhost:8080/",
          "height": 870
        },
        "id": "qHdOzGGQJz7J",
        "outputId": "f1a7ac9a-9dba-4657-fb09-fc000e82f93e"
      },
      "execution_count": 62,
      "outputs": [
        {
          "output_type": "stream",
          "name": "stdout",
          "text": [
            "Hamilton [('the', 10546), ('of', 7238), ('to', 4571), ('and', 2920), ('in', 2887), ('be', 2325), ('that', 1724), ('it', 1584), ('is', 1358), ('which', 1267)]\n",
            "Jay [('the', 709), ('of', 499), ('and', 341), ('to', 320), ('in', 178), ('be', 166), ('that', 159), ('it', 147), ('by', 107), ('as', 100)]\n",
            "Madison [('the', 3783), ('of', 2360), ('to', 1279), ('and', 1072), ('in', 779), ('be', 750), ('that', 538), ('it', 464), ('is', 445), ('by', 406)]\n"
          ]
        },
        {
          "output_type": "display_data",
          "data": {
            "image/png": "[encoded data removed]",
            "text/plain": [
              "<Figure size 432x288 with 1 Axes>"
            ]
          },
          "metadata": {}
        },
        {
          "output_type": "display_data",
          "data": {
            "image/png": "[encoded data removed]",
            "text/plain": [
              "<Figure size 432x288 with 1 Axes>"
            ]
          },
          "metadata": {}
        },
        {
          "output_type": "display_data",
          "data": {
            "image/png": "[encoded data removed]",
            "text/plain": [
              "<Figure size 432x288 with 1 Axes>"
            ]
          },
          "metadata": {}
        }
      ]
    },
    {
      "cell_type": "markdown",
      "metadata": {
        "id": "fh0DzmKrBLUT"
      },
      "source": [
        "## Question 3\n",
        "\n",
        "For each of the documents with disputed authorships, find the 5 most similar documents with _known_ authorships, using cosine distance on the term frequencies. Use the authors of these 5 most similar documents to predict the author of each disputed document. (For example, if 3 of the 5 closest documents were written by Hamilton, 1 by Madison, and 1 by Jay, then we would predict that the disputed document was written by Hamilton.)"
      ]
    },
    {
      "cell_type": "code",
      "source": [
        "from sklearn.metrics.pairwise import cosine_similarity, cosine_distances\n",
        "from sklearn.feature_extraction.text import TfidfVectorizer\n",
        "import numpy as np\n",
        "\n",
        "df_author_no_na = df_authorship[df_authorship[\"Author\"].notna() == True]\n",
        "df_author_no_na.index\n",
        "\n",
        "vec = TfidfVectorizer(norm=None) \n",
        "vec.fit(df_authorship.Paper)\n",
        "tf_idf_paper_sparse = vec.transform(df_authorship.Paper)\n",
        "tf_idf_paper_sparse\n",
        "\n",
        "cos_sim_paper = cosine_similarity(tf_idf_paper_sparse)\n",
        "cos_sim_paper = cos_sim_paper[df_author_no_na.index]\n",
        "\n",
        "paper_author_index = df_authorship[df_authorship[\"Author\"].isna()].index.tolist()\n",
        "paper_author_index\n",
        "\n",
        "for i in paper_author_index:\n",
        "  highest_cos_sim_index = np.argpartition(cos_sim_paper[i], -5)[-5:]\n",
        "  most_likely_author = df_authorship[\"Author\"][highest_cos_sim_index].mode()\n",
        "\n",
        "  print(\"The author prediction for the disputed ducument #%d is %s\\n\" % (i, most_likely_author[0]))\n",
        "  #https://numpy.org/doc/stable/reference/generated/numpy.argpartition.html\n"
      ],
      "metadata": {
        "colab": {
          "base_uri": "https://localhost:8080/"
        },
        "id": "EFnut8MtQ3nQ",
        "outputId": "053157db-2912-4b53-b600-7d61f2343ac0"
      },
      "execution_count": 61,
      "outputs": [
        {
          "output_type": "stream",
          "name": "stdout",
          "text": [
            "The author prediction for the disputed ducument #17 is Madison\n",
            "\n",
            "The author prediction for the disputed ducument #18 is Hamilton\n",
            "\n",
            "The author prediction for the disputed ducument #19 is Hamilton\n",
            "\n",
            "The author prediction for the disputed ducument #48 is Madison\n",
            "\n",
            "The author prediction for the disputed ducument #49 is Madison\n",
            "\n",
            "The author prediction for the disputed ducument #50 is Hamilton\n",
            "\n",
            "The author prediction for the disputed ducument #51 is Hamilton\n",
            "\n",
            "The author prediction for the disputed ducument #52 is Hamilton\n",
            "\n",
            "The author prediction for the disputed ducument #53 is Hamilton\n",
            "\n",
            "The author prediction for the disputed ducument #54 is Hamilton\n",
            "\n",
            "The author prediction for the disputed ducument #55 is Hamilton\n",
            "\n",
            "The author prediction for the disputed ducument #56 is Hamilton\n",
            "\n",
            "The author prediction for the disputed ducument #57 is Hamilton\n",
            "\n",
            "The author prediction for the disputed ducument #61 is Hamilton\n",
            "\n",
            "The author prediction for the disputed ducument #62 is Hamilton\n",
            "\n"
          ]
        }
      ]
    },
    {
      "cell_type": "markdown",
      "metadata": {
        "id": "8Ng3BgkXBLUw"
      },
      "source": [
        "## Submission Instructions\n",
        "\n",
        "- Copy this notebook to your own Drive, if you have not already.\n",
        "- Restart this notebook and run the cells from beginning to end. \n",
        "  - Go to Runtime > Restart and Run All.\n",
        "- Rename this notebook by clicking on \"DATA 301 Lab 5 - YOUR NAMES HERE\" at the very top of this page. Replace \"YOUR NAMES HERE\" with the first and last names of you (and your partners, for Phase 2).\n",
        "- Get the link to your notebook:\n",
        "  - Click on \"Share\" at the top-right. \n",
        "  - Change the settings to \"Anyone with the link can view\". \n",
        "  - Copy the sharing link into Canvas."
      ]
    }
  ]
}